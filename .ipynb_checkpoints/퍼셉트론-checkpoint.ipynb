{
 "cells": [
  {
   "cell_type": "markdown",
   "id": "53f5138e-aea5-4939-9ce1-e517d1e63176",
   "metadata": {},
   "source": [
    "# 퍼셉트론 알고리즘\n",
    "- 프랑크 로젠블라트가 1957년 고안한 알고리즘\n",
    "- 신경망(딥러닝)의 기초가 된다.\n",
    "  \n",
    "## 퍼셉트론이란?\n",
    "\n",
    "> 다수의 신호를 입력으로 받아서 하나의 신호로 출력하는것(여기서 신호는 전류나 강물처럼 흐름이 있는것)\n",
    "\n",
    "- 퍼셉트론 신호도 흐름을 만들고 정보를 앞으로 전달\n",
    "- 전류와 다른점은 흐른다/안흐른다 (1/0) 두가지 값이다.\n",
    "\n",
    "\n",
    "$$\n",
    "x_1, x_2 \\text{는 입력신호}\n",
    "$$\n",
    "\n",
    "$$\n",
    "y는 출력신호\n",
    "$$\n",
    "\n",
    "$$\n",
    "w_1, w_2 \\text{는 가중치}\n",
    "$$\n",
    "\n",
    "> 입력신호가 뉴런에게 보내질 때 각각 고유한 가중치가 곱해진다, 보내온 신호의 총합이 정해진 한계(임계값)를 넘어설 때만 1을 출력\n",
    "> 동작원리를 수식으로 나타내면 아래와 같다\n",
    "\n",
    "\n",
    "$$\n",
    "0 = \\begin{cases} \n",
    "1 & \\text (w_1 x_1 + w_2 x_2 \\leq \\theta) \\\\\n",
    "0 & \\text (w_1 x_1 + w_2 x_2  >  \\theta)\n",
    "\\end{cases}\n",
    "$$\n",
    "\n",
    "**가중치**가 클수록 해당신호가 중요하다!\n",
    "\n",
    "---\n",
    "\n",
    "## 단순한 논리 회로\n",
    "\n",
    "AND 게이트 -> 입력이 두개, 출력이 하나\n",
    "\n",
    "- 두입력이 모두 1일 때 1출력\n",
    "\n",
    "진리표\n",
    "\n",
    "|$x_1$|$x_2$|y|\n",
    "|-----|-----|----|\n",
    "|0|0|0|\n",
    "|0|1|0|\n",
    "|1|0|0|\n",
    "|1|1|1|\n"
   ]
  },
  {
   "cell_type": "code",
   "execution_count": 1,
   "id": "d6720f45-6642-4b7d-87a7-df76012e29c0",
   "metadata": {},
   "outputs": [],
   "source": [
    "# 퍼셉트론 구현하기\n",
    "# AND 함수 x1 과 x2를 인수로 받는다.\n",
    "\n",
    "def AND(x1, x2):\n",
    "    w1, w2, theta = 0.5, 0.5, 0.7\n",
    "    tmp = x1 * w1 + x2 * w2\n",
    "    if tmp <= theta:\n",
    "        return 0\n",
    "    elif tmp > theta:\n",
    "        return 1\n"
   ]
  },
  {
   "cell_type": "code",
   "execution_count": 3,
   "id": "709e5676-98d9-4f8a-b134-30223e100660",
   "metadata": {},
   "outputs": [
    {
     "name": "stdout",
     "output_type": "stream",
     "text": [
      "0\n",
      "0\n",
      "0\n",
      "1\n"
     ]
    }
   ],
   "source": [
    "print(AND(0,0))\n",
    "print(AND(1,0))\n",
    "print(AND(0,1))\n",
    "print(AND(1,1))"
   ]
  },
  {
   "cell_type": "code",
   "execution_count": 7,
   "id": "fcc1e1f4-7e53-4cf5-8b60-66ec1642a4e5",
   "metadata": {},
   "outputs": [
    {
     "name": "stdout",
     "output_type": "stream",
     "text": [
      "[0.  0.5]\n",
      "0.5\n",
      "-0.19999999999999996\n"
     ]
    }
   ],
   "source": [
    "# 가중치와 편향 도입\n",
    "# theta를 -b로 치환하여 작업\n",
    "import numpy as np\n",
    "\n",
    "x = np.array([0, 1])\n",
    "w = np.array([0.5, 0.5])\n",
    "b = -0.7\n",
    "print(w*x)\n",
    "print(np.sum(w*x))\n",
    "print(np.sum(w*x) + b)"
   ]
  },
  {
   "cell_type": "code",
   "execution_count": 8,
   "id": "6e7c3521-f267-48d8-99c9-ab84217ffccc",
   "metadata": {},
   "outputs": [],
   "source": [
    "# 가중치와 편향을 도입한 AND 게이트\n",
    "\n",
    "def AND2(x1, x2): \n",
    "    x = np.array([x1, x2])\n",
    "    w = np.array([0.5, 0.5])\n",
    "    b = -0.7\n",
    "    tmp = np.sum(w * x) + b\n",
    "    if tmp <= 0:\n",
    "        return 0\n",
    "    else:\n",
    "        return 1"
   ]
  },
  {
   "cell_type": "code",
   "execution_count": 9,
   "id": "12205cf5-f40b-459f-a124-c05a7cf9ab6f",
   "metadata": {},
   "outputs": [],
   "source": [
    "# 가중치와 편향을 도입한 NAND, OR 게이트\n",
    "def NAND(x1, x2):\n",
    "    x = np.array([x1, x2])\n",
    "    w = np.array([-0.5, -0.5])\n",
    "    b = 0.7\n",
    "    tmp = np.sum(w * x) + b\n",
    "    if tmp <=0:\n",
    "        return 0\n",
    "    else: \n",
    "        return 1\n",
    "\n",
    "def OR(x1, x2): \n",
    "    x = np.array([x1, x2])\n",
    "    w = np.array([0.5, 0.5])\n",
    "    b = -0.2\n",
    "    tmp = np.sum(w * x) + b\n",
    "    if tmp <= 0:\n",
    "        return 0\n",
    "    else:\n",
    "        return 1\n",
    "    "
   ]
  },
  {
   "cell_type": "markdown",
   "id": "256266b9-fcb9-4ce8-aed2-be66411209af",
   "metadata": {},
   "source": [
    "## 퍼셉트론의 한계\n",
    "\n",
    "다층 퍼셉트론으로 XOR 구현가능"
   ]
  },
  {
   "cell_type": "code",
   "execution_count": 10,
   "id": "f6a7d34c-5f1c-4d42-a7ad-384314bbee3f",
   "metadata": {},
   "outputs": [],
   "source": [
    "def XOR(x1, x2):\n",
    "    s1 = NAND(x1, x2)\n",
    "    s2 = OR(x1, x2)\n",
    "    y = AND2(s1, s2)\n",
    "    return y"
   ]
  },
  {
   "cell_type": "code",
   "execution_count": 11,
   "id": "cc33ff9f-b4bd-4dfa-9ea2-fc6af999cd30",
   "metadata": {},
   "outputs": [
    {
     "name": "stdout",
     "output_type": "stream",
     "text": [
      "0\n",
      "1\n",
      "1\n",
      "0\n"
     ]
    }
   ],
   "source": [
    "print(XOR(0,0))\n",
    "print(XOR(1,0))\n",
    "print(XOR(0,1))\n",
    "print(XOR(1,1))"
   ]
  }
 ],
 "metadata": {
  "kernelspec": {
   "display_name": "Python 3 (ipykernel)",
   "language": "python",
   "name": "python3"
  },
  "language_info": {
   "codemirror_mode": {
    "name": "ipython",
    "version": 3
   },
   "file_extension": ".py",
   "mimetype": "text/x-python",
   "name": "python",
   "nbconvert_exporter": "python",
   "pygments_lexer": "ipython3",
   "version": "3.11.7"
  }
 },
 "nbformat": 4,
 "nbformat_minor": 5
}
